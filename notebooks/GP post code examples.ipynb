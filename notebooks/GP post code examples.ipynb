{
 "cells": [
  {
   "cell_type": "code",
   "execution_count": 4,
   "metadata": {
    "collapsed": true
   },
   "outputs": [],
   "source": [
    "import requests\n",
    "import json\n",
    "import pandas"
   ]
  },
  {
   "cell_type": "code",
   "execution_count": 11,
   "metadata": {
    "collapsed": false
   },
   "outputs": [
    {
     "data": {
      "text/plain": [
       "{'firstPageUri': '/locations?page=1&perPage=5',\n",
       " 'lastPageUri': '/locations?page=15232&perPage=5',\n",
       " 'locations': [{'locationId': '1-1000210669',\n",
       "   'locationName': 'Kingswood House Nursing Home',\n",
       "   'postalCode': 'TN37 6HR'},\n",
       "  {'locationId': '1-1000270393',\n",
       "   'locationName': 'Red Kite Home Care',\n",
       "   'postalCode': 'SL1 7JZ'},\n",
       "  {'locationId': '1-1000312641',\n",
       "   'locationName': 'Human Support Group Limited - Sale',\n",
       "   'postalCode': 'M33 7HF'},\n",
       "  {'locationId': '1-1000401911',\n",
       "   'locationName': 'Little Haven',\n",
       "   'postalCode': 'SE6 1HP'},\n",
       "  {'locationId': '1-1000587219',\n",
       "   'locationName': 'Highlands Borders Care Home',\n",
       "   'postalCode': 'EX1 2QE'}],\n",
       " 'nextPageUri': '/locations?page=2&perPage=5',\n",
       " 'page': 1,\n",
       " 'perPage': 5,\n",
       " 'previousPageUri': None,\n",
       " 'total': 76156,\n",
       " 'totalPages': 15232,\n",
       " 'uri': '/locations'}"
      ]
     },
     "execution_count": 11,
     "metadata": {},
     "output_type": "execute_result"
    }
   ],
   "source": [
    "#cqc API for GP locations\n",
    "r = requests.get('https://api.cqc.org.uk/public/v1/locations?page=1&perPage=5')\n",
    "r.json()"
   ]
  },
  {
   "cell_type": "code",
   "execution_count": 29,
   "metadata": {
    "collapsed": false
   },
   "outputs": [],
   "source": [
    "#postcodes.io \n",
    "def resolve_postcodes(postcodes):\n",
    "    return requests.post(\"http://api.postcodes.io/postcodes/\",data={\"postcodes\":postcodes}).json()\n"
   ]
  },
  {
   "cell_type": "code",
   "execution_count": 60,
   "metadata": {
    "collapsed": false
   },
   "outputs": [
    {
     "data": {
      "text/plain": [
       "{'result': [{'query': 'TN37 6HR',\n",
       "   'result': {'admin_county': 'East Sussex',\n",
       "    'admin_district': 'Hastings',\n",
       "    'admin_ward': 'Gensing',\n",
       "    'ccg': 'NHS Hastings & Rother',\n",
       "    'codes': {'admin_county': 'E10000011',\n",
       "     'admin_district': 'E07000062',\n",
       "     'admin_ward': 'E05003935',\n",
       "     'ccg': 'E38000076',\n",
       "     'nuts': 'UKJ22',\n",
       "     'parish': 'E43000056'},\n",
       "    'country': 'England',\n",
       "    'eastings': 580412,\n",
       "    'european_electoral_region': 'South East',\n",
       "    'incode': '6HR',\n",
       "    'latitude': 50.8573104331189,\n",
       "    'longitude': 0.561959531821354,\n",
       "    'lsoa': 'Hastings 011E',\n",
       "    'msoa': 'Hastings 011',\n",
       "    'nhs_ha': 'South East Coast',\n",
       "    'northings': 109549,\n",
       "    'nuts': 'East Sussex CC',\n",
       "    'outcode': 'TN37',\n",
       "    'parish': 'Hastings, unparished area',\n",
       "    'parliamentary_constituency': 'Hastings and Rye',\n",
       "    'postcode': 'TN37 6HR',\n",
       "    'primary_care_trust': 'Hastings and Rother',\n",
       "    'quality': 1,\n",
       "    'region': 'South East'}},\n",
       "  {'query': 'SE6 1HP',\n",
       "   'result': {'admin_county': None,\n",
       "    'admin_district': 'Lewisham',\n",
       "    'admin_ward': 'Catford South',\n",
       "    'ccg': 'NHS Lewisham',\n",
       "    'codes': {'admin_county': 'E99999999',\n",
       "     'admin_district': 'E09000023',\n",
       "     'admin_ward': 'E05000440',\n",
       "     'ccg': 'E38000098',\n",
       "     'nuts': 'UKI44',\n",
       "     'parish': 'E43000213'},\n",
       "    'country': 'England',\n",
       "    'eastings': 539261,\n",
       "    'european_electoral_region': 'London',\n",
       "    'incode': '1HP',\n",
       "    'latitude': 51.4411043413386,\n",
       "    'longitude': 0.00233457296515523,\n",
       "    'lsoa': 'Lewisham 022C',\n",
       "    'msoa': 'Lewisham 022',\n",
       "    'nhs_ha': 'London',\n",
       "    'northings': 173247,\n",
       "    'nuts': 'Lewisham and Southwark',\n",
       "    'outcode': 'SE6',\n",
       "    'parish': 'Lewisham, unparished area',\n",
       "    'parliamentary_constituency': 'Lewisham East',\n",
       "    'postcode': 'SE6 1HP',\n",
       "    'primary_care_trust': 'Lewisham',\n",
       "    'quality': 1,\n",
       "    'region': 'London'}},\n",
       "  {'query': 'SL1 7JZ',\n",
       "   'result': {'admin_county': 'Buckinghamshire',\n",
       "    'admin_district': 'South Bucks',\n",
       "    'admin_ward': 'Burnham Church & Beeches',\n",
       "    'ccg': 'NHS Chiltern',\n",
       "    'codes': {'admin_county': 'E10000002',\n",
       "     'admin_district': 'E07000006',\n",
       "     'admin_ward': 'E05010571',\n",
       "     'ccg': 'E38000033',\n",
       "     'nuts': 'UKJ13',\n",
       "     'parish': 'E04001581'},\n",
       "    'country': 'England',\n",
       "    'eastings': 493111,\n",
       "    'european_electoral_region': 'South East',\n",
       "    'incode': '7JZ',\n",
       "    'latitude': 51.5350872638476,\n",
       "    'longitude': -0.658963367461735,\n",
       "    'lsoa': 'South Bucks 007A',\n",
       "    'msoa': 'South Bucks 007',\n",
       "    'nhs_ha': 'South Central',\n",
       "    'northings': 182650,\n",
       "    'nuts': 'Buckinghamshire CC',\n",
       "    'outcode': 'SL1',\n",
       "    'parish': 'Burnham',\n",
       "    'parliamentary_constituency': 'Beaconsfield',\n",
       "    'postcode': 'SL1 7JZ',\n",
       "    'primary_care_trust': 'Buckinghamshire',\n",
       "    'quality': 1,\n",
       "    'region': 'South East'}},\n",
       "  {'query': 'EX1 2QE',\n",
       "   'result': {'admin_county': 'Devon',\n",
       "    'admin_district': 'Exeter',\n",
       "    'admin_ward': None,\n",
       "    'ccg': 'NHS North, East, West Devon',\n",
       "    'codes': {'admin_county': 'E10000008',\n",
       "     'admin_district': 'E07000041',\n",
       "     'admin_ward': 'E05011014',\n",
       "     'ccg': 'E38000129',\n",
       "     'nuts': None,\n",
       "     'parish': 'E43000052'},\n",
       "    'country': 'England',\n",
       "    'eastings': 293644,\n",
       "    'european_electoral_region': 'South West',\n",
       "    'incode': '2QE',\n",
       "    'latitude': 50.7215472060709,\n",
       "    'longitude': -3.50805411558459,\n",
       "    'lsoa': 'Exeter 006A',\n",
       "    'msoa': 'Exeter 006',\n",
       "    'nhs_ha': 'South West',\n",
       "    'northings': 92409,\n",
       "    'nuts': None,\n",
       "    'outcode': 'EX1',\n",
       "    'parish': 'Exeter, unparished area',\n",
       "    'parliamentary_constituency': 'Exeter',\n",
       "    'postcode': 'EX1 2QE',\n",
       "    'primary_care_trust': 'Devon',\n",
       "    'quality': 1,\n",
       "    'region': 'South West'}},\n",
       "  {'query': 'M33 7HF',\n",
       "   'result': {'admin_county': None,\n",
       "    'admin_district': 'Trafford',\n",
       "    'admin_ward': 'Ashton upon Mersey',\n",
       "    'ccg': 'NHS Trafford',\n",
       "    'codes': {'admin_county': 'E99999999',\n",
       "     'admin_district': 'E08000009',\n",
       "     'admin_ward': 'E05000820',\n",
       "     'ccg': 'E38000187',\n",
       "     'nuts': 'UKD34',\n",
       "     'parish': 'E43000163'},\n",
       "    'country': 'England',\n",
       "    'eastings': 378615,\n",
       "    'european_electoral_region': 'North West',\n",
       "    'incode': '7HF',\n",
       "    'latitude': 53.4277302109833,\n",
       "    'longitude': -2.32330115939216,\n",
       "    'lsoa': 'Trafford 012B',\n",
       "    'msoa': 'Trafford 012',\n",
       "    'nhs_ha': 'North West',\n",
       "    'northings': 392375,\n",
       "    'nuts': 'Greater Manchester South West',\n",
       "    'outcode': 'M33',\n",
       "    'parish': 'Trafford, unparished area',\n",
       "    'parliamentary_constituency': 'Altrincham and Sale West',\n",
       "    'postcode': 'M33 7HF',\n",
       "    'primary_care_trust': 'Trafford',\n",
       "    'quality': 1,\n",
       "    'region': 'North West'}}],\n",
       " 'status': 200}"
      ]
     },
     "execution_count": 60,
     "metadata": {},
     "output_type": "execute_result"
    }
   ],
   "source": [
    "resolve_postcodes(pandas.read_json(json.dumps(r.json()['locations'])).postalCode.values)"
   ]
  },
  {
   "cell_type": "code",
   "execution_count": null,
   "metadata": {
    "collapsed": true
   },
   "outputs": [],
   "source": []
  }
 ],
 "metadata": {
  "anaconda-cloud": {},
  "kernelspec": {
   "display_name": "Python [Root]",
   "language": "python",
   "name": "Python [Root]"
  },
  "language_info": {
   "codemirror_mode": {
    "name": "ipython",
    "version": 3
   },
   "file_extension": ".py",
   "mimetype": "text/x-python",
   "name": "python",
   "nbconvert_exporter": "python",
   "pygments_lexer": "ipython3",
   "version": "3.5.2"
  }
 },
 "nbformat": 4,
 "nbformat_minor": 0
}
