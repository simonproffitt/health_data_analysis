{
 "cells": [
  {
   "cell_type": "code",
   "execution_count": 1,
   "metadata": {
    "collapsed": false
   },
   "outputs": [],
   "source": [
    "import sys\n",
    "sys.path.insert(0, '../python/lib/')\n",
    "import ons\n",
    "import utl\n",
    "import pandas\n",
    "import matplotlib.pyplot as plt\n",
    "import matplotlib.patches as mpatches\n",
    "import pylab\n",
    "%matplotlib inline\n",
    "pylab.rcParams['figure.figsize'] = (15, 8)\n",
    "api_key = <your api key here>"
   ]
  },
  {
   "cell_type": "code",
   "execution_count": 2,
   "metadata": {
    "collapsed": false
   },
   "outputs": [
    {
     "data": {
      "text/html": [
       "<div>\n",
       "<table border=\"1\" class=\"dataframe\">\n",
       "  <thead>\n",
       "    <tr style=\"text-align: right;\">\n",
       "      <th></th>\n",
       "      <th>name</th>\n",
       "      <th>geography</th>\n",
       "      <th>differentiator</th>\n",
       "      <th>file_url</th>\n",
       "      <th>publication_date</th>\n",
       "    </tr>\n",
       "  </thead>\n",
       "  <tbody>\n",
       "    <tr>\n",
       "      <th>0</th>\n",
       "      <td>Small Area Population Estimates</td>\n",
       "      <td>2011 Statistical Geography Hierarchy</td>\n",
       "      <td>2011</td>\n",
       "      <td>http://data.statistics.gov.uk/ons/datasets/csv...</td>\n",
       "      <td>2015-04-02+01:00</td>\n",
       "    </tr>\n",
       "    <tr>\n",
       "      <th>1</th>\n",
       "      <td>Small Area Population Estimates</td>\n",
       "      <td>2011 Statistical Geography Hierarchy</td>\n",
       "      <td>2012</td>\n",
       "      <td>http://data.statistics.gov.uk/ons/datasets/csv...</td>\n",
       "      <td>2015-04-02+01:00</td>\n",
       "    </tr>\n",
       "    <tr>\n",
       "      <th>2</th>\n",
       "      <td>Small Area Population Estimates</td>\n",
       "      <td>2011 Statistical Geography Hierarchy</td>\n",
       "      <td>2010</td>\n",
       "      <td>http://data.statistics.gov.uk/ons/datasets/csv...</td>\n",
       "      <td>2015-04-02+01:00</td>\n",
       "    </tr>\n",
       "    <tr>\n",
       "      <th>3</th>\n",
       "      <td>Small Area Population Estimates</td>\n",
       "      <td>2011 Statistical Geography Hierarchy</td>\n",
       "      <td>2005</td>\n",
       "      <td>http://data.statistics.gov.uk/ons/datasets/csv...</td>\n",
       "      <td>2015-04-02+01:00</td>\n",
       "    </tr>\n",
       "    <tr>\n",
       "      <th>4</th>\n",
       "      <td>Small Area Population Estimates</td>\n",
       "      <td>2011 Statistical Geography Hierarchy</td>\n",
       "      <td>2004</td>\n",
       "      <td>http://data.statistics.gov.uk/ons/datasets/csv...</td>\n",
       "      <td>2015-04-02+01:00</td>\n",
       "    </tr>\n",
       "  </tbody>\n",
       "</table>\n",
       "</div>"
      ],
      "text/plain": [
       "                              name                             geography  \\\n",
       "0  Small Area Population Estimates  2011 Statistical Geography Hierarchy   \n",
       "1  Small Area Population Estimates  2011 Statistical Geography Hierarchy   \n",
       "2  Small Area Population Estimates  2011 Statistical Geography Hierarchy   \n",
       "3  Small Area Population Estimates  2011 Statistical Geography Hierarchy   \n",
       "4  Small Area Population Estimates  2011 Statistical Geography Hierarchy   \n",
       "\n",
       "  differentiator                                           file_url  \\\n",
       "0           2011  http://data.statistics.gov.uk/ons/datasets/csv...   \n",
       "1           2012  http://data.statistics.gov.uk/ons/datasets/csv...   \n",
       "2           2010  http://data.statistics.gov.uk/ons/datasets/csv...   \n",
       "3           2005  http://data.statistics.gov.uk/ons/datasets/csv...   \n",
       "4           2004  http://data.statistics.gov.uk/ons/datasets/csv...   \n",
       "\n",
       "   publication_date  \n",
       "0  2015-04-02+01:00  \n",
       "1  2015-04-02+01:00  \n",
       "2  2015-04-02+01:00  \n",
       "3  2015-04-02+01:00  \n",
       "4  2015-04-02+01:00  "
      ]
     },
     "execution_count": 2,
     "metadata": {},
     "output_type": "execute_result"
    }
   ],
   "source": [
    "%%capture\n",
    "datasets= ons.get_datasets_for_context('Social',api_key)\n",
    "datasets.head()"
   ]
  },
  {
   "cell_type": "markdown",
   "metadata": {},
   "source": [
    "Get population estimates by health area from the 2012 data"
   ]
  },
  {
   "cell_type": "code",
   "execution_count": 8,
   "metadata": {
    "collapsed": false
   },
   "outputs": [],
   "source": [
    "url = datasets[(datasets['name'] == 'Small Area Population Estimates') \n",
    "               & (datasets['differentiator']==2012) \n",
    "               & (datasets['geography']=='2013 Health Area Hierarchy')]['file_url'].values[0]\n",
    "data = utl.get_csv_data_from_url(url)\n"
   ]
  },
  {
   "cell_type": "code",
   "execution_count": 12,
   "metadata": {
    "collapsed": false,
    "scrolled": false
   },
   "outputs": [
    {
     "data": {
      "image/png": "[encoded data removed]",
      "text/plain": [
       "<matplotlib.figure.Figure at 0x14e38654c50>"
      ]
     },
     "metadata": {},
     "output_type": "display_data"
    }
   ],
   "source": [
    "london_data = data[data['Geographic Area']=='London'].iloc[0]\n",
    "transposed_data = pandas.concat([pandas.DataFrame({ 'Count' : [int(london_data[str(x)]['Total: All Persons'])],'Age':x})\n",
    "               for x in range(90)],axis =0)\n",
    "fig = plt.figure()\n",
    "fig.suptitle('Number of people of a given age in London', fontsize=14, fontweight='bold')\n",
    "ax = fig.add_subplot(111)\n",
    "ax.set_xlabel('Age /years')\n",
    "ax.set_ylabel('Population size')\n",
    "plt.bar(transposed_data['Age'],transposed_data['Count']);"
   ]
  },
  {
   "cell_type": "markdown",
   "metadata": {},
   "source": [
    "Looks like people have children and leave london, sounds plausible but is it really this smooth?"
   ]
  },
  {
   "cell_type": "code",
   "execution_count": null,
   "metadata": {
    "collapsed": true
   },
   "outputs": [],
   "source": []
  }
 ],
 "metadata": {
  "anaconda-cloud": {},
  "kernelspec": {
   "display_name": "Python [Root]",
   "language": "python",
   "name": "Python [Root]"
  },
  "language_info": {
   "codemirror_mode": {
    "name": "ipython",
    "version": 3
   },
   "file_extension": ".py",
   "mimetype": "text/x-python",
   "name": "python",
   "nbconvert_exporter": "python",
   "pygments_lexer": "ipython3",
   "version": "3.5.2"
  }
 },
 "nbformat": 4,
 "nbformat_minor": 0
}
